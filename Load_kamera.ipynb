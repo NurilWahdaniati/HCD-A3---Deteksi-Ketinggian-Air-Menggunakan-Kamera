{
 "cells": [
  {
   "cell_type": "code",
   "execution_count": null,
   "id": "b0dda1ed",
   "metadata": {},
   "outputs": [],
   "source": [
    "# import library opencv\n",
    "import cv2"
   ]
  },
  {
   "cell_type": "code",
   "execution_count": null,
   "id": "95b49314",
   "metadata": {},
   "outputs": [],
   "source": [
    "#deklarasi variabel untuk mengambil gambar (melalui laptop)\n",
    "kamera = cv2.VideoCapture(0)"
   ]
  },
  {
   "cell_type": "code",
   "execution_count": null,
   "id": "a31850cf",
   "metadata": {},
   "outputs": [],
   "source": [
    "#membuat window (layar tampilan) untuk kamera\n",
    "cv2.namedWindow(\"kamera\")"
   ]
  },
  {
   "cell_type": "code",
   "execution_count": null,
   "id": "b3561901",
   "metadata": {},
   "outputs": [],
   "source": [
    "#variabel hitung jumlah gambar\n",
    "img_counter = 0"
   ]
  },
  {
   "cell_type": "code",
   "execution_count": null,
   "id": "941fcc7d",
   "metadata": {},
   "outputs": [],
   "source": [
    "while (kamera.isOpened()):\n",
    "    #frame:ambil next frame dari kamera, ret:kembalikan nilai boolean setelah dpt frame (true or false)\n",
    "  ret, frame = kamera.read()\n",
    "  cv2.imshow(\"kamera\", frame)\n",
    "  if not ret:\n",
    "    break\n",
    "  k = cv2.waitKey(1)\n",
    "\n",
    "    # ambil gambar pakai tombol keyboard laptop (ascii)\n",
    "  if k == 27: #% 256 == 27:\n",
    "    #ESC Pressed\n",
    "    print(\"Escape ditekan, kamera ditutup..\")\n",
    "    break\n",
    "  elif k == 32: #% 256 == 32:\n",
    "    #SPACE Pressed \n",
    "    img_name = \"gambar_{}.jpg\".format(img_counter)\n",
    "    cv2.imwrite(img_name, frame)\n",
    "    print(\"{} berhasil!\".format(img_name))\n",
    "    img_counter +=1\n",
    "\n",
    "#tutup video file (tangkap gambar)\n",
    "kamera.release()\n",
    "#tutup window yg terbuka\n",
    "cv2.destroyAllWindows()"
   ]
  },
  {
   "cell_type": "code",
   "execution_count": null,
   "id": "38412c22",
   "metadata": {},
   "outputs": [],
   "source": []
  }
 ],
 "metadata": {
  "kernelspec": {
   "display_name": "Python 3",
   "language": "python",
   "name": "python3"
  },
  "language_info": {
   "codemirror_mode": {
    "name": "ipython",
    "version": 3
   },
   "file_extension": ".py",
   "mimetype": "text/x-python",
   "name": "python",
   "nbconvert_exporter": "python",
   "pygments_lexer": "ipython3",
   "version": "3.8.2"
  }
 },
 "nbformat": 4,
 "nbformat_minor": 5
}
