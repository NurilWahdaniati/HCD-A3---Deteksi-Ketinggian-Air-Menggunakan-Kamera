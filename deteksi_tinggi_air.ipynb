{
 "cells": [
  {
   "cell_type": "code",
   "execution_count": 1,
   "id": "b0dda1ed",
   "metadata": {},
   "outputs": [],
   "source": [
    "# import library opencv\n",
    "import cv2"
   ]
  },
  {
   "cell_type": "code",
   "execution_count": 6,
   "id": "95b49314",
   "metadata": {},
   "outputs": [],
   "source": [
    "#deklarasi variabel untuk mengambil gambar (melalui laptop)\n",
    "kamera = cv2.VideoCapture(1)"
   ]
  },
  {
   "cell_type": "code",
   "execution_count": 7,
   "id": "a31850cf",
   "metadata": {},
   "outputs": [],
   "source": [
    "#membuat window (layar tampilan) untuk kamera\n",
    "cv2.namedWindow(\"kamera\")"
   ]
  },
  {
   "cell_type": "code",
   "execution_count": 8,
   "id": "b3561901",
   "metadata": {},
   "outputs": [],
   "source": [
    "#variabel hitung jumlah gambar\n",
    "img_counter = 0"
   ]
  },
  {
   "cell_type": "code",
   "execution_count": 9,
   "id": "941fcc7d",
   "metadata": {},
   "outputs": [
    {
     "name": "stdout",
     "output_type": "stream",
     "text": [
      "gambar_0.jpg berhasil!\n",
      "gambar_1.jpg berhasil!\n",
      "Escape ditekan, kamera ditutup..\n"
     ]
    }
   ],
   "source": [
    "while (kamera.isOpened()):\n",
    "    #frame:ambil next frame dari kamera, ret:kembalikan nilai boolean setelah dpt frame (true or false)\n",
    "  ret, frame = kamera.read()\n",
    "  cv2.imshow(\"kamera\", frame)\n",
    "  if not ret:\n",
    "    break\n",
    "  k = cv2.waitKey(1)\n",
    "\n",
    "    # ambil gambar pakai tombol keyboard laptop (ascii)\n",
    "  if k == 27: #% 256 == 27:\n",
    "    #ESC Pressed\n",
    "    print(\"Escape ditekan, kamera ditutup..\")\n",
    "    break\n",
    "  elif k == 32: #% 256 == 32:\n",
    "    #SPACE Pressed \n",
    "    img_name = \"gambar_{}.jpg\".format(img_counter)\n",
    "    cv2.imwrite(img_name, frame)\n",
    "    print(\"{} berhasil!\".format(img_name))\n",
    "    img_counter +=1\n",
    "\n",
    "#tutup video file (tangkap gambar)\n",
    "kamera.release()\n",
    "#tutup window yg terbuka\n",
    "cv2.destroyAllWindows()"
   ]
  },
  {
   "cell_type": "code",
   "execution_count": 2,
   "id": "38412c22",
   "metadata": {},
   "outputs": [],
   "source": [
    "import matplotlib.pyplot as plt\n",
    "import matplotlib.image as mpimg\n",
    "\n",
    "# baca gambar yang sudah ditangkap kamera\n",
    "image1 = mpimg.imread('pendek.jpeg')\n",
    "img2 = mpimg.imread('tinggi1.jpeg')"
   ]
  },
  {
   "cell_type": "code",
   "execution_count": 19,
   "id": "392d754a",
   "metadata": {},
   "outputs": [
    {
     "name": "stdout",
     "output_type": "stream",
     "text": [
      "(428, 619, 3)\n",
      "(428, 717, 3)\n"
     ]
    }
   ],
   "source": [
    "#cek shape image\n",
    "print(image1.shape)\n",
    "print(img2.shape)"
   ]
  },
  {
   "cell_type": "code",
   "execution_count": null,
   "id": "6ef275d0",
   "metadata": {},
   "outputs": [],
   "source": [
    "#tampilin gambar\n",
    "fig, ax = plt.subplots(2)\n",
    "ax[0].imshow(image1)\n",
    "ax[1].imshow(img2)"
   ]
  },
  {
   "cell_type": "code",
   "execution_count": 14,
   "id": "6bb329cb",
   "metadata": {},
   "outputs": [],
   "source": [
    "#ubah gambar ke gray\n",
    "gray1 = cv2.cvtColor(image1,cv2.COLOR_BGR2GRAY)\n",
    "gray2 = cv2.cvtColor(img2,cv2.COLOR_BGR2GRAY)"
   ]
  },
  {
   "cell_type": "code",
   "execution_count": 15,
   "id": "13267cfd",
   "metadata": {},
   "outputs": [],
   "source": [
    "gray3Channel1 = cv2.cvtColor(gray1, cv2.COLOR_GRAY2BGR)\n",
    "gray3Channel2 = cv2.cvtColor(gray2, cv2.COLOR_GRAY2BGR)"
   ]
  },
  {
   "cell_type": "code",
   "execution_count": 16,
   "id": "c8e59cdd",
   "metadata": {},
   "outputs": [],
   "source": [
    "# ubah ke binary\n",
    "ret1, biner1 = cv2.threshold(gray3Channel1, 150, 255, cv2.THRESH_BINARY)\n",
    "ret2, biner2 = cv2.threshold(gray3Channel2, 150, 255, cv2.THRESH_BINARY)"
   ]
  },
  {
   "cell_type": "code",
   "execution_count": 17,
   "id": "7d683a12",
   "metadata": {},
   "outputs": [
    {
     "data": {
      "text/plain": [
       "<matplotlib.image.AxesImage at 0x1c6575278e0>"
      ]
     },
     "execution_count": 17,
     "metadata": {},
     "output_type": "execute_result"
    },
    {
     "data": {
      "image/png": "[encoded data removed]",
      "text/plain": [
       "<Figure size 432x288 with 2 Axes>"
      ]
     },
     "metadata": {
      "needs_background": "light"
     },
     "output_type": "display_data"
    }
   ],
   "source": [
    "fig, ax = plt.subplots(2)\n",
    "ax[0].imshow(biner1)\n",
    "ax[1].imshow(biner2)"
   ]
  },
  {
   "cell_type": "code",
   "execution_count": 18,
   "id": "f0a1a298",
   "metadata": {},
   "outputs": [
    {
     "name": "stdout",
     "output_type": "stream",
     "text": [
      "(428, 619, 3)\n",
      "(428, 717, 3)\n"
     ]
    }
   ],
   "source": [
    "print(biner1.shape)\n",
    "print(biner2.shape)"
   ]
  },
  {
   "cell_type": "code",
   "execution_count": null,
   "id": "3b7f9264",
   "metadata": {},
   "outputs": [],
   "source": []
  }
 ],
 "metadata": {
  "kernelspec": {
   "display_name": "Python 3",
   "language": "python",
   "name": "python3"
  },
  "language_info": {
   "codemirror_mode": {
    "name": "ipython",
    "version": 3
   },
   "file_extension": ".py",
   "mimetype": "text/x-python",
   "name": "python",
   "nbconvert_exporter": "python",
   "pygments_lexer": "ipython3",
   "version": "3.8.2"
  }
 },
 "nbformat": 4,
 "nbformat_minor": 5
}
