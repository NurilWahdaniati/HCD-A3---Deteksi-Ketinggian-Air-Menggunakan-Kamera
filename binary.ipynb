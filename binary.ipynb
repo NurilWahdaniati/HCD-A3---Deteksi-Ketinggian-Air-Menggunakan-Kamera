{
  "nbformat": 4,
  "nbformat_minor": 0,
  "metadata": {
    "colab": {
      "name": "binary.ipynb",
      "provenance": []
    },
    "kernelspec": {
      "name": "python3",
      "display_name": "Python 3"
    },
    "language_info": {
      "name": "python"
    }
  },
  "cells": [
    {
      "cell_type": "code",
      "metadata": {
        "id": "MvUBvi8ck4eI"
      },
      "source": [
        "import  cv2\n",
        "\n",
        "image = cv2.imread(\".jpeg\")\n",
        "gray = cv2.cvColor(image,cv2.COLOR_BGR2GRAY)\n",
        "ret,biner = cv2.threshold(gray,150,255,cv2,THRESH_BINARY)\n",
        "\n",
        "cv2.imshow(\"frameSungai\",image)\n",
        "cv2.imshow(\"frameSungaiGray\",gray)\n",
        "cv2.imshow(\"frameSungaiBinary\",binary)\n",
        "\n",
        "cv2.waitKey(0)\n",
        "cv2.destroyAllwindows()\n"
      ],
      "execution_count": null,
      "outputs": []
    }
  ]
}